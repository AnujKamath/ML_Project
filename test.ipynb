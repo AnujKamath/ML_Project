{
 "cells": [
  {
   "cell_type": "code",
   "execution_count": 6,
   "metadata": {},
   "outputs": [],
   "source": [
    "import librosa\n",
    "import numpy as np\n",
    "import soundfile as sf\n",
    "from sklearn.decomposition import PCA\n",
    "from sklearn.cluster import KMeans\n",
    "from sklearn.preprocessing import StandardScaler, MinMaxScaler\n",
    "import os"
   ]
  },
  {
   "cell_type": "code",
   "execution_count": null,
   "metadata": {},
   "outputs": [],
   "source": [
    "def get_features(audio_path):\n",
    "    y, sr = librosa.load(audio_path)\n",
    "    \n",
    "    hop_length = 512\n",
    "    \n",
    "    # Extract MFCCs\n",
    "    mfcc = librosa.feature.mfcc(y=y, sr=sr, n_mfcc=13, hop_length=hop_length)\n",
    "    delta_mfcc = librosa.feature.delta(mfcc)\n",
    "    delta2_mfcc = librosa.feature.delta(mfcc, order=2)\n",
    "    mfccs = np.vstack([mfcc, delta_mfcc, delta2_mfcc])\n",
    "    \n",
    "    # Extract spectral features with consistent hop_length\n",
    "    spectral_centroid = librosa.feature.spectral_centroid(y=y, sr=sr, hop_length=hop_length)\n",
    "    spectral_rolloff = librosa.feature.spectral_rolloff(y=y, sr=sr, hop_length=hop_length)\n",
    "    D = np.abs(librosa.stft(y, hop_length=hop_length))\n",
    "    spectral_flux = np.sum(np.diff(D, axis=1) ** 2, axis=0)\n",
    "    spectral_flux = np.pad(spectral_flux, (0, 1), mode='edge')\n",
    "    \n",
    "    # Ensure all features have the same length\n",
    "    min_length = min(mfccs.shape[1], \n",
    "                    spectral_centroid.shape[1], \n",
    "                    spectral_rolloff.shape[1], \n",
    "                    len(spectral_flux))\n",
    "    \n",
    "    mfccs = mfccs[:, :min_length]\n",
    "    spectral_centroid = spectral_centroid[:, :min_length]\n",
    "    spectral_rolloff = spectral_rolloff[:, :min_length]\n",
    "    spectral_flux = spectral_flux[:min_length]\n",
    "    \n",
    "    # Stack spectral features\n",
    "    spectral_features = np.vstack([spectral_centroid, \n",
    "                                 spectral_rolloff, \n",
    "                                 spectral_flux.reshape(1, -1)])\n",
    "    \n",
    "    # Calculate i-vectors\n",
    "    n_components = 10\n",
    "    pca = PCA(n_components=n_components)\n",
    "    ivectors = pca.fit_transform(mfccs.T)\n",
    "    \n",
    "    # Combine all features\n",
    "    features = np.hstack([mfccs.T, spectral_features.T, ivectors])\n",
    "    \n",
    "    # Scale features\n",
    "    scaler = StandardScaler()\n",
    "    scaled_features = scaler.fit_transform(features)\n",
    "    \n",
    "    return scaled_features"
   ]
  },
  {
   "cell_type": "code",
   "execution_count": 14,
   "metadata": {},
   "outputs": [],
   "source": [
    "def diarize_kmeans(audio_path, k=2):\n",
    "    audio, sr = librosa.load(audio_path)\n",
    "    speakers = []\n",
    "    paths = []\n",
    "    \n",
    "    \n",
    "    kmeans = KMeans(n_clusters=k+1, random_state=42)\n",
    "    labels = kmeans.fit_predict(get_features(audio_path))\n",
    "    for cluster in range(k+1):\n",
    "        cluster_indices = np.where(labels == cluster)[0]\n",
    "        cluster_audio = []\n",
    "        hop_length = 512\n",
    "        \n",
    "        for idx in cluster_indices:\n",
    "            start_sample = idx * hop_length\n",
    "            end_sample = (idx + 1) * hop_length\n",
    "            cluster_audio.append(audio[start_sample:end_sample])\n",
    "        \n",
    "        cluster_audio = np.concatenate(cluster_audio)\n",
    "        \n",
    "        output_file = f'kmeans/cluster_{cluster}.wav'\n",
    "        sf.write(output_file, cluster_audio, sr)\n",
    "        paths.append(os.path.abspath(output_file))\n",
    "        speakers.append((cluster_audio, sr))\n",
    "        print(f'Cluster {cluster} audio saved to {output_file}')\n",
    "    \n",
    "    return paths"
   ]
  },
  {
   "cell_type": "code",
   "execution_count": 12,
   "metadata": {},
   "outputs": [
    {
     "name": "stdout",
     "output_type": "stream",
     "text": [
      "Cluster 0 audio saved to kmeans/cluster_0.wav\n",
      "Cluster 1 audio saved to kmeans/cluster_1.wav\n",
      "Cluster 2 audio saved to kmeans/cluster_2.wav\n"
     ]
    },
    {
     "name": "stderr",
     "output_type": "stream",
     "text": [
      "c:\\Users\\bala\\AppData\\Local\\Programs\\Python\\Python312\\Lib\\site-packages\\joblib\\externals\\loky\\backend\\context.py:136: UserWarning: Could not find the number of physical cores for the following reason:\n",
      "[WinError 2] The system cannot find the file specified\n",
      "Returning the number of logical cores instead. You can silence this warning by setting LOKY_MAX_CPU_COUNT to the number of cores you want to use.\n",
      "  warnings.warn(\n",
      "  File \"c:\\Users\\bala\\AppData\\Local\\Programs\\Python\\Python312\\Lib\\site-packages\\joblib\\externals\\loky\\backend\\context.py\", line 257, in _count_physical_cores\n",
      "    cpu_info = subprocess.run(\n",
      "               ^^^^^^^^^^^^^^^\n",
      "  File \"c:\\Users\\bala\\AppData\\Local\\Programs\\Python\\Python312\\Lib\\subprocess.py\", line 548, in run\n",
      "    with Popen(*popenargs, **kwargs) as process:\n",
      "         ^^^^^^^^^^^^^^^^^^^^^^^^^^^\n",
      "  File \"c:\\Users\\bala\\AppData\\Local\\Programs\\Python\\Python312\\Lib\\subprocess.py\", line 1026, in __init__\n",
      "    self._execute_child(args, executable, preexec_fn, close_fds,\n",
      "  File \"c:\\Users\\bala\\AppData\\Local\\Programs\\Python\\Python312\\Lib\\subprocess.py\", line 1538, in _execute_child\n",
      "    hp, ht, pid, tid = _winapi.CreateProcess(executable, args,\n",
      "                       ^^^^^^^^^^^^^^^^^^^^^^^^^^^^^^^^^^^^^^^\n"
     ]
    },
    {
     "data": {
      "text/plain": [
       "['c:\\\\Users\\\\bala\\\\code\\\\python\\\\ML_Project-main\\\\kmeans\\\\cluster_0.wav',\n",
       " 'c:\\\\Users\\\\bala\\\\code\\\\python\\\\ML_Project-main\\\\kmeans\\\\cluster_1.wav',\n",
       " 'c:\\\\Users\\\\bala\\\\code\\\\python\\\\ML_Project-main\\\\kmeans\\\\cluster_2.wav']"
      ]
     },
     "execution_count": 12,
     "metadata": {},
     "output_type": "execute_result"
    }
   ],
   "source": [
    "diarize_kmeans('gwtwd.wav')"
   ]
  },
  {
   "cell_type": "code",
   "execution_count": null,
   "metadata": {},
   "outputs": [],
   "source": []
  }
 ],
 "metadata": {
  "kernelspec": {
   "display_name": "Python 3",
   "language": "python",
   "name": "python3"
  },
  "language_info": {
   "codemirror_mode": {
    "name": "ipython",
    "version": 3
   },
   "file_extension": ".py",
   "mimetype": "text/x-python",
   "name": "python",
   "nbconvert_exporter": "python",
   "pygments_lexer": "ipython3",
   "version": "3.12.7"
  }
 },
 "nbformat": 4,
 "nbformat_minor": 2
}
